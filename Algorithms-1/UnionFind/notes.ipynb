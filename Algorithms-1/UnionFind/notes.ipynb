{
 "cells": [
  {
   "cell_type": "markdown",
   "id": "76986e37",
   "metadata": {},
   "source": [
    "#### Dynamic Connectivity Problem\n",
    "The input is a sequence of pairs of integers, where each integer represents an object of some type and we are to interpret the pair p q as meaning p is connected to q.\n"
   ]
  },
  {
   "cell_type": "code",
   "execution_count": 1,
   "id": "80c2745e",
   "metadata": {},
   "outputs": [],
   "source": [
    "class UnionFind:\n",
    "    uf = []\n",
    "    \n",
    "    def __init__(self, N: int):\n",
    "        self.uf = range(N)\n",
    "        \n",
    "    def union(self, p: int, q: int):\n",
    "        pass\n",
    "    \n",
    "    def connected(self, p: int, q: int):\n",
    "        pass\n",
    "    "
   ]
  },
  {
   "cell_type": "code",
   "execution_count": null,
   "id": "adfeaa50",
   "metadata": {},
   "outputs": [],
   "source": []
  }
 ],
 "metadata": {
  "kernelspec": {
   "display_name": "Python 3 (ipykernel)",
   "language": "python",
   "name": "python3"
  },
  "language_info": {
   "codemirror_mode": {
    "name": "ipython",
    "version": 3
   },
   "file_extension": ".py",
   "mimetype": "text/x-python",
   "name": "python",
   "nbconvert_exporter": "python",
   "pygments_lexer": "ipython3",
   "version": "3.11.3"
  }
 },
 "nbformat": 4,
 "nbformat_minor": 5
}
